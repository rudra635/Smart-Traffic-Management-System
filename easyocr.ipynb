{
 "cells": [
  {
   "cell_type": "code",
   "execution_count": 1,
   "id": "27c2d85a-5e94-4cf0-ba7f-7ea347e430e7",
   "metadata": {},
   "outputs": [
    {
     "name": "stdout",
     "output_type": "stream",
     "text": [
      "Defaulting to user installation because normal site-packages is not writeable\n",
      "Collecting easyocr\n",
      "  Downloading easyocr-1.7.2-py3-none-any.whl.metadata (10 kB)\n",
      "Requirement already satisfied: torch in /home/nexgits/.local/lib/python3.8/site-packages (from easyocr) (2.4.1)\n",
      "Requirement already satisfied: torchvision>=0.5 in /home/nexgits/.local/lib/python3.8/site-packages (from easyocr) (0.19.1)\n",
      "Requirement already satisfied: opencv-python-headless in /home/nexgits/.local/lib/python3.8/site-packages (from easyocr) (4.10.0.84)\n",
      "Requirement already satisfied: scipy in /home/nexgits/.local/lib/python3.8/site-packages (from easyocr) (1.10.1)\n",
      "Requirement already satisfied: numpy in /home/nexgits/.local/lib/python3.8/site-packages (from easyocr) (1.24.4)\n",
      "Requirement already satisfied: Pillow in /home/nexgits/.local/lib/python3.8/site-packages (from easyocr) (10.2.0)\n",
      "Requirement already satisfied: scikit-image in /home/nexgits/.local/lib/python3.8/site-packages (from easyocr) (0.21.0)\n",
      "Collecting python-bidi (from easyocr)\n",
      "  Downloading python_bidi-0.6.3-cp38-cp38-manylinux_2_17_x86_64.manylinux2014_x86_64.whl.metadata (4.9 kB)\n",
      "Requirement already satisfied: PyYAML in /home/nexgits/.local/lib/python3.8/site-packages (from easyocr) (6.0.2)\n",
      "Requirement already satisfied: Shapely in /home/nexgits/.local/lib/python3.8/site-packages (from easyocr) (2.0.6)\n",
      "Requirement already satisfied: pyclipper in /home/nexgits/.local/lib/python3.8/site-packages (from easyocr) (1.3.0.post6)\n",
      "Collecting ninja (from easyocr)\n",
      "  Downloading ninja-1.11.1.1-py2.py3-none-manylinux1_x86_64.manylinux_2_5_x86_64.whl.metadata (5.3 kB)\n",
      "Requirement already satisfied: filelock in /home/nexgits/.local/lib/python3.8/site-packages (from torch->easyocr) (3.13.1)\n",
      "Requirement already satisfied: typing-extensions>=4.8.0 in /home/nexgits/.local/lib/python3.8/site-packages (from torch->easyocr) (4.12.2)\n",
      "Requirement already satisfied: sympy in /home/nexgits/.local/lib/python3.8/site-packages (from torch->easyocr) (1.13.2)\n",
      "Requirement already satisfied: networkx in /home/nexgits/.local/lib/python3.8/site-packages (from torch->easyocr) (3.1)\n",
      "Requirement already satisfied: jinja2 in /home/nexgits/.local/lib/python3.8/site-packages (from torch->easyocr) (3.1.3)\n",
      "Requirement already satisfied: fsspec in /home/nexgits/.local/lib/python3.8/site-packages (from torch->easyocr) (2024.9.0)\n",
      "Requirement already satisfied: nvidia-cuda-nvrtc-cu12==12.1.105 in /home/nexgits/.local/lib/python3.8/site-packages (from torch->easyocr) (12.1.105)\n",
      "Requirement already satisfied: nvidia-cuda-runtime-cu12==12.1.105 in /home/nexgits/.local/lib/python3.8/site-packages (from torch->easyocr) (12.1.105)\n",
      "Requirement already satisfied: nvidia-cuda-cupti-cu12==12.1.105 in /home/nexgits/.local/lib/python3.8/site-packages (from torch->easyocr) (12.1.105)\n",
      "Requirement already satisfied: nvidia-cudnn-cu12==9.1.0.70 in /home/nexgits/.local/lib/python3.8/site-packages (from torch->easyocr) (9.1.0.70)\n",
      "Requirement already satisfied: nvidia-cublas-cu12==12.1.3.1 in /home/nexgits/.local/lib/python3.8/site-packages (from torch->easyocr) (12.1.3.1)\n",
      "Requirement already satisfied: nvidia-cufft-cu12==11.0.2.54 in /home/nexgits/.local/lib/python3.8/site-packages (from torch->easyocr) (11.0.2.54)\n",
      "Requirement already satisfied: nvidia-curand-cu12==10.3.2.106 in /home/nexgits/.local/lib/python3.8/site-packages (from torch->easyocr) (10.3.2.106)\n",
      "Requirement already satisfied: nvidia-cusolver-cu12==11.4.5.107 in /home/nexgits/.local/lib/python3.8/site-packages (from torch->easyocr) (11.4.5.107)\n",
      "Requirement already satisfied: nvidia-cusparse-cu12==12.1.0.106 in /home/nexgits/.local/lib/python3.8/site-packages (from torch->easyocr) (12.1.0.106)\n",
      "Requirement already satisfied: nvidia-nccl-cu12==2.20.5 in /home/nexgits/.local/lib/python3.8/site-packages (from torch->easyocr) (2.20.5)\n",
      "Requirement already satisfied: nvidia-nvtx-cu12==12.1.105 in /home/nexgits/.local/lib/python3.8/site-packages (from torch->easyocr) (12.1.105)\n",
      "Requirement already satisfied: triton==3.0.0 in /home/nexgits/.local/lib/python3.8/site-packages (from torch->easyocr) (3.0.0)\n",
      "Requirement already satisfied: nvidia-nvjitlink-cu12 in /home/nexgits/.local/lib/python3.8/site-packages (from nvidia-cusolver-cu12==11.4.5.107->torch->easyocr) (12.6.77)\n",
      "Requirement already satisfied: imageio>=2.27 in /home/nexgits/.local/lib/python3.8/site-packages (from scikit-image->easyocr) (2.35.1)\n",
      "Requirement already satisfied: tifffile>=2022.8.12 in /home/nexgits/.local/lib/python3.8/site-packages (from scikit-image->easyocr) (2023.7.10)\n",
      "Requirement already satisfied: PyWavelets>=1.1.1 in /home/nexgits/.local/lib/python3.8/site-packages (from scikit-image->easyocr) (1.4.1)\n",
      "Requirement already satisfied: packaging>=21 in /home/nexgits/.local/lib/python3.8/site-packages (from scikit-image->easyocr) (23.2)\n",
      "Requirement already satisfied: lazy_loader>=0.2 in /home/nexgits/.local/lib/python3.8/site-packages (from scikit-image->easyocr) (0.4)\n",
      "Requirement already satisfied: MarkupSafe>=2.0 in /home/nexgits/.local/lib/python3.8/site-packages (from jinja2->torch->easyocr) (2.1.5)\n",
      "Requirement already satisfied: mpmath<1.4,>=1.1.0 in /home/nexgits/.local/lib/python3.8/site-packages (from sympy->torch->easyocr) (1.3.0)\n",
      "Downloading easyocr-1.7.2-py3-none-any.whl (2.9 MB)\n",
      "\u001b[2K   \u001b[38;2;114;156;31m━━━━━━━━━━━━━━━━━━━━━━━━━━━━━━━━━━━━━━━━\u001b[0m \u001b[32m2.9/2.9 MB\u001b[0m \u001b[31m10.6 MB/s\u001b[0m eta \u001b[36m0:00:00\u001b[0m31m11.3 MB/s\u001b[0m eta \u001b[36m0:00:01\u001b[0m\n",
      "\u001b[?25hDownloading ninja-1.11.1.1-py2.py3-none-manylinux1_x86_64.manylinux_2_5_x86_64.whl (307 kB)\n",
      "Downloading python_bidi-0.6.3-cp38-cp38-manylinux_2_17_x86_64.manylinux2014_x86_64.whl (286 kB)\n",
      "Installing collected packages: python-bidi, ninja, easyocr\n",
      "Successfully installed easyocr-1.7.2 ninja-1.11.1.1 python-bidi-0.6.3\n",
      "\n",
      "\u001b[1m[\u001b[0m\u001b[34;49mnotice\u001b[0m\u001b[1;39;49m]\u001b[0m\u001b[39;49m A new release of pip is available: \u001b[0m\u001b[31;49m24.2\u001b[0m\u001b[39;49m -> \u001b[0m\u001b[32;49m24.3.1\u001b[0m\n",
      "\u001b[1m[\u001b[0m\u001b[34;49mnotice\u001b[0m\u001b[1;39;49m]\u001b[0m\u001b[39;49m To update, run: \u001b[0m\u001b[32;49mpython3 -m pip install --upgrade pip\u001b[0m\n"
     ]
    }
   ],
   "source": [
    "!pip install easyocr"
   ]
  },
  {
   "cell_type": "code",
   "execution_count": 7,
   "id": "4f066672-709e-4684-a215-7b3e9268b01c",
   "metadata": {},
   "outputs": [
    {
     "name": "stderr",
     "output_type": "stream",
     "text": [
      "Using CPU. Note: This module is much faster with a GPU.\n"
     ]
    }
   ],
   "source": [
    "import easyocr\n",
    "\n",
    "reader = easyocr.Reader(['en'], gpu=False)"
   ]
  },
  {
   "cell_type": "code",
   "execution_count": 9,
   "id": "3a1db83f-983a-4290-ab88-cf3b24995cbe",
   "metadata": {},
   "outputs": [
    {
     "data": {
      "text/plain": [
       "[([[2, 2], [306, 2], [306, 71], [2, 71]], 'HH12DE1433', 0.6606896771854401)]"
      ]
     },
     "execution_count": 9,
     "metadata": {},
     "output_type": "execute_result"
    }
   ],
   "source": [
    "path = \"nplate.png\"\n",
    "\n",
    "reader.readtext(path)"
   ]
  },
  {
   "cell_type": "code",
   "execution_count": null,
   "id": "da87f3c3-8ff7-45b9-a7d2-78bfcecbf2f8",
   "metadata": {},
   "outputs": [],
   "source": []
  }
 ],
 "metadata": {
  "kernelspec": {
   "display_name": "Python 3 (ipykernel)",
   "language": "python",
   "name": "python3"
  },
  "language_info": {
   "codemirror_mode": {
    "name": "ipython",
    "version": 3
   },
   "file_extension": ".py",
   "mimetype": "text/x-python",
   "name": "python",
   "nbconvert_exporter": "python",
   "pygments_lexer": "ipython3",
   "version": "3.8.10"
  }
 },
 "nbformat": 4,
 "nbformat_minor": 5
}
